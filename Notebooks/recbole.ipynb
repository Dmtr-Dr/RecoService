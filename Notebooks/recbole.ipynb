{
  "cells": [
    {
      "cell_type": "markdown",
      "source": [
        "# Импорт библиотек"
      ],
      "metadata": {
        "id": "g-mA6Pq9ZMhO"
      },
      "id": "g-mA6Pq9ZMhO"
    },
    {
      "cell_type": "code",
      "source": [
        "!pip install kmeans_pytorch\n",
        "!pip install recbole\n",
        "!pip install ray"
      ],
      "metadata": {
        "colab": {
          "base_uri": "https://localhost:8080/"
        },
        "id": "RbA5ElJKPMQI",
        "outputId": "c3a03361-160c-456d-bbbc-6e3259621aef"
      },
      "id": "RbA5ElJKPMQI",
      "execution_count": null,
      "outputs": [
        {
          "output_type": "stream",
          "name": "stdout",
          "text": [
            "Collecting kmeans_pytorch\n",
            "  Downloading kmeans_pytorch-0.3-py3-none-any.whl (4.4 kB)\n",
            "Installing collected packages: kmeans_pytorch\n",
            "Successfully installed kmeans_pytorch-0.3\n",
            "Collecting recbole\n",
            "  Downloading recbole-1.2.0-py3-none-any.whl (2.1 MB)\n",
            "\u001b[2K     \u001b[90m━━━━━━━━━━━━━━━━━━━━━━━━━━━━━━━━━━━━━━━━\u001b[0m \u001b[32m2.1/2.1 MB\u001b[0m \u001b[31m10.5 MB/s\u001b[0m eta \u001b[36m0:00:00\u001b[0m\n",
            "\u001b[?25hRequirement already satisfied: torch>=1.10.0 in /usr/local/lib/python3.10/dist-packages (from recbole) (2.1.0+cu118)\n",
            "Requirement already satisfied: numpy>=1.17.2 in /usr/local/lib/python3.10/dist-packages (from recbole) (1.23.5)\n",
            "Requirement already satisfied: scipy>=1.6.0 in /usr/local/lib/python3.10/dist-packages (from recbole) (1.11.4)\n",
            "Requirement already satisfied: pandas>=1.4.0 in /usr/local/lib/python3.10/dist-packages (from recbole) (1.5.3)\n",
            "Requirement already satisfied: tqdm>=4.48.2 in /usr/local/lib/python3.10/dist-packages (from recbole) (4.66.1)\n",
            "Collecting colorlog==4.7.2 (from recbole)\n",
            "  Downloading colorlog-4.7.2-py2.py3-none-any.whl (10 kB)\n",
            "Collecting colorama==0.4.4 (from recbole)\n",
            "  Downloading colorama-0.4.4-py2.py3-none-any.whl (16 kB)\n",
            "Requirement already satisfied: scikit-learn>=0.23.2 in /usr/local/lib/python3.10/dist-packages (from recbole) (1.2.2)\n",
            "Requirement already satisfied: pyyaml>=5.1.0 in /usr/local/lib/python3.10/dist-packages (from recbole) (6.0.1)\n",
            "Requirement already satisfied: tensorboard>=2.5.0 in /usr/local/lib/python3.10/dist-packages (from recbole) (2.14.1)\n",
            "Collecting thop>=0.1.1.post2207130030 (from recbole)\n",
            "  Downloading thop-0.1.1.post2209072238-py3-none-any.whl (15 kB)\n",
            "Requirement already satisfied: tabulate>=0.8.10 in /usr/local/lib/python3.10/dist-packages (from recbole) (0.9.0)\n",
            "Requirement already satisfied: plotly>=4.0.0 in /usr/local/lib/python3.10/dist-packages (from recbole) (5.15.0)\n",
            "Collecting texttable>=0.9.0 (from recbole)\n",
            "  Downloading texttable-1.7.0-py2.py3-none-any.whl (10 kB)\n",
            "Requirement already satisfied: python-dateutil>=2.8.1 in /usr/local/lib/python3.10/dist-packages (from pandas>=1.4.0->recbole) (2.8.2)\n",
            "Requirement already satisfied: pytz>=2020.1 in /usr/local/lib/python3.10/dist-packages (from pandas>=1.4.0->recbole) (2023.3.post1)\n",
            "Requirement already satisfied: tenacity>=6.2.0 in /usr/local/lib/python3.10/dist-packages (from plotly>=4.0.0->recbole) (8.2.3)\n",
            "Requirement already satisfied: packaging in /usr/local/lib/python3.10/dist-packages (from plotly>=4.0.0->recbole) (23.2)\n",
            "Requirement already satisfied: joblib>=1.1.1 in /usr/local/lib/python3.10/dist-packages (from scikit-learn>=0.23.2->recbole) (1.3.2)\n",
            "Requirement already satisfied: threadpoolctl>=2.0.0 in /usr/local/lib/python3.10/dist-packages (from scikit-learn>=0.23.2->recbole) (3.2.0)\n",
            "Requirement already satisfied: absl-py>=0.4 in /usr/local/lib/python3.10/dist-packages (from tensorboard>=2.5.0->recbole) (1.4.0)\n",
            "Requirement already satisfied: grpcio>=1.48.2 in /usr/local/lib/python3.10/dist-packages (from tensorboard>=2.5.0->recbole) (1.59.3)\n",
            "Requirement already satisfied: google-auth<3,>=1.6.3 in /usr/local/lib/python3.10/dist-packages (from tensorboard>=2.5.0->recbole) (2.17.3)\n",
            "Requirement already satisfied: google-auth-oauthlib<1.1,>=0.5 in /usr/local/lib/python3.10/dist-packages (from tensorboard>=2.5.0->recbole) (1.0.0)\n",
            "Requirement already satisfied: markdown>=2.6.8 in /usr/local/lib/python3.10/dist-packages (from tensorboard>=2.5.0->recbole) (3.5.1)\n",
            "Requirement already satisfied: protobuf>=3.19.6 in /usr/local/lib/python3.10/dist-packages (from tensorboard>=2.5.0->recbole) (3.20.3)\n",
            "Requirement already satisfied: requests<3,>=2.21.0 in /usr/local/lib/python3.10/dist-packages (from tensorboard>=2.5.0->recbole) (2.31.0)\n",
            "Requirement already satisfied: setuptools>=41.0.0 in /usr/local/lib/python3.10/dist-packages (from tensorboard>=2.5.0->recbole) (67.7.2)\n",
            "Requirement already satisfied: six>1.9 in /usr/local/lib/python3.10/dist-packages (from tensorboard>=2.5.0->recbole) (1.16.0)\n",
            "Requirement already satisfied: tensorboard-data-server<0.8.0,>=0.7.0 in /usr/local/lib/python3.10/dist-packages (from tensorboard>=2.5.0->recbole) (0.7.2)\n",
            "Requirement already satisfied: werkzeug>=1.0.1 in /usr/local/lib/python3.10/dist-packages (from tensorboard>=2.5.0->recbole) (3.0.1)\n",
            "Requirement already satisfied: filelock in /usr/local/lib/python3.10/dist-packages (from torch>=1.10.0->recbole) (3.13.1)\n",
            "Requirement already satisfied: typing-extensions in /usr/local/lib/python3.10/dist-packages (from torch>=1.10.0->recbole) (4.5.0)\n",
            "Requirement already satisfied: sympy in /usr/local/lib/python3.10/dist-packages (from torch>=1.10.0->recbole) (1.12)\n",
            "Requirement already satisfied: networkx in /usr/local/lib/python3.10/dist-packages (from torch>=1.10.0->recbole) (3.2.1)\n",
            "Requirement already satisfied: jinja2 in /usr/local/lib/python3.10/dist-packages (from torch>=1.10.0->recbole) (3.1.2)\n",
            "Requirement already satisfied: fsspec in /usr/local/lib/python3.10/dist-packages (from torch>=1.10.0->recbole) (2023.6.0)\n",
            "Requirement already satisfied: triton==2.1.0 in /usr/local/lib/python3.10/dist-packages (from torch>=1.10.0->recbole) (2.1.0)\n",
            "Requirement already satisfied: cachetools<6.0,>=2.0.0 in /usr/local/lib/python3.10/dist-packages (from google-auth<3,>=1.6.3->tensorboard>=2.5.0->recbole) (5.3.2)\n",
            "Requirement already satisfied: pyasn1-modules>=0.2.1 in /usr/local/lib/python3.10/dist-packages (from google-auth<3,>=1.6.3->tensorboard>=2.5.0->recbole) (0.3.0)\n",
            "Requirement already satisfied: rsa<5,>=3.1.4 in /usr/local/lib/python3.10/dist-packages (from google-auth<3,>=1.6.3->tensorboard>=2.5.0->recbole) (4.9)\n",
            "Requirement already satisfied: requests-oauthlib>=0.7.0 in /usr/local/lib/python3.10/dist-packages (from google-auth-oauthlib<1.1,>=0.5->tensorboard>=2.5.0->recbole) (1.3.1)\n",
            "Requirement already satisfied: charset-normalizer<4,>=2 in /usr/local/lib/python3.10/dist-packages (from requests<3,>=2.21.0->tensorboard>=2.5.0->recbole) (3.3.2)\n",
            "Requirement already satisfied: idna<4,>=2.5 in /usr/local/lib/python3.10/dist-packages (from requests<3,>=2.21.0->tensorboard>=2.5.0->recbole) (3.6)\n",
            "Requirement already satisfied: urllib3<3,>=1.21.1 in /usr/local/lib/python3.10/dist-packages (from requests<3,>=2.21.0->tensorboard>=2.5.0->recbole) (2.0.7)\n",
            "Requirement already satisfied: certifi>=2017.4.17 in /usr/local/lib/python3.10/dist-packages (from requests<3,>=2.21.0->tensorboard>=2.5.0->recbole) (2023.11.17)\n",
            "Requirement already satisfied: MarkupSafe>=2.1.1 in /usr/local/lib/python3.10/dist-packages (from werkzeug>=1.0.1->tensorboard>=2.5.0->recbole) (2.1.3)\n",
            "Requirement already satisfied: mpmath>=0.19 in /usr/local/lib/python3.10/dist-packages (from sympy->torch>=1.10.0->recbole) (1.3.0)\n",
            "Requirement already satisfied: pyasn1<0.6.0,>=0.4.6 in /usr/local/lib/python3.10/dist-packages (from pyasn1-modules>=0.2.1->google-auth<3,>=1.6.3->tensorboard>=2.5.0->recbole) (0.5.1)\n",
            "Requirement already satisfied: oauthlib>=3.0.0 in /usr/local/lib/python3.10/dist-packages (from requests-oauthlib>=0.7.0->google-auth-oauthlib<1.1,>=0.5->tensorboard>=2.5.0->recbole) (3.2.2)\n",
            "Installing collected packages: texttable, colorlog, colorama, thop, recbole\n",
            "Successfully installed colorama-0.4.4 colorlog-4.7.2 recbole-1.2.0 texttable-1.7.0 thop-0.1.1.post2209072238\n",
            "Collecting ray\n",
            "  Downloading ray-2.8.1-cp310-cp310-manylinux2014_x86_64.whl (62.6 MB)\n",
            "\u001b[2K     \u001b[90m━━━━━━━━━━━━━━━━━━━━━━━━━━━━━━━━━━━━━━━━\u001b[0m \u001b[32m62.6/62.6 MB\u001b[0m \u001b[31m11.2 MB/s\u001b[0m eta \u001b[36m0:00:00\u001b[0m\n",
            "\u001b[?25hRequirement already satisfied: click>=7.0 in /usr/local/lib/python3.10/dist-packages (from ray) (8.1.7)\n",
            "Requirement already satisfied: filelock in /usr/local/lib/python3.10/dist-packages (from ray) (3.13.1)\n",
            "Requirement already satisfied: jsonschema in /usr/local/lib/python3.10/dist-packages (from ray) (4.19.2)\n",
            "Requirement already satisfied: msgpack<2.0.0,>=1.0.0 in /usr/local/lib/python3.10/dist-packages (from ray) (1.0.7)\n",
            "Requirement already satisfied: packaging in /usr/local/lib/python3.10/dist-packages (from ray) (23.2)\n",
            "Requirement already satisfied: protobuf!=3.19.5,>=3.15.3 in /usr/local/lib/python3.10/dist-packages (from ray) (3.20.3)\n",
            "Requirement already satisfied: pyyaml in /usr/local/lib/python3.10/dist-packages (from ray) (6.0.1)\n",
            "Requirement already satisfied: aiosignal in /usr/local/lib/python3.10/dist-packages (from ray) (1.3.1)\n",
            "Requirement already satisfied: frozenlist in /usr/local/lib/python3.10/dist-packages (from ray) (1.4.0)\n",
            "Requirement already satisfied: requests in /usr/local/lib/python3.10/dist-packages (from ray) (2.31.0)\n",
            "Requirement already satisfied: numpy>=1.19.3 in /usr/local/lib/python3.10/dist-packages (from ray) (1.23.5)\n",
            "Requirement already satisfied: attrs>=22.2.0 in /usr/local/lib/python3.10/dist-packages (from jsonschema->ray) (23.1.0)\n",
            "Requirement already satisfied: jsonschema-specifications>=2023.03.6 in /usr/local/lib/python3.10/dist-packages (from jsonschema->ray) (2023.11.2)\n",
            "Requirement already satisfied: referencing>=0.28.4 in /usr/local/lib/python3.10/dist-packages (from jsonschema->ray) (0.31.1)\n",
            "Requirement already satisfied: rpds-py>=0.7.1 in /usr/local/lib/python3.10/dist-packages (from jsonschema->ray) (0.13.2)\n",
            "Requirement already satisfied: charset-normalizer<4,>=2 in /usr/local/lib/python3.10/dist-packages (from requests->ray) (3.3.2)\n",
            "Requirement already satisfied: idna<4,>=2.5 in /usr/local/lib/python3.10/dist-packages (from requests->ray) (3.6)\n",
            "Requirement already satisfied: urllib3<3,>=1.21.1 in /usr/local/lib/python3.10/dist-packages (from requests->ray) (2.0.7)\n",
            "Requirement already satisfied: certifi>=2017.4.17 in /usr/local/lib/python3.10/dist-packages (from requests->ray) (2023.11.17)\n",
            "Installing collected packages: ray\n",
            "Successfully installed ray-2.8.1\n"
          ]
        }
      ]
    },
    {
      "cell_type": "code",
      "execution_count": null,
      "id": "6de2c8bc",
      "metadata": {
        "execution": {
          "iopub.execute_input": "2022-11-27T16:33:28.041759Z",
          "iopub.status.busy": "2022-11-27T16:33:28.041244Z",
          "iopub.status.idle": "2022-11-27T16:33:29.274165Z",
          "shell.execute_reply": "2022-11-27T16:33:29.272623Z"
        },
        "papermill": {
          "duration": 1.244043,
          "end_time": "2022-11-27T16:33:29.277270",
          "exception": false,
          "start_time": "2022-11-27T16:33:28.033227",
          "status": "completed"
        },
        "tags": [],
        "id": "6de2c8bc"
      },
      "outputs": [],
      "source": [
        "import ast\n",
        "import json\n",
        "import matplotlib.pyplot as plt\n",
        "import numpy as np\n",
        "import os\n",
        "import pandas as pd\n",
        "import pickle\n",
        "import torch\n",
        "\n",
        "import warnings\n",
        "warnings.filterwarnings('ignore')\n",
        "\n",
        "from collections import Counter\n",
        "from random import randint, random\n",
        "from scipy.sparse import coo_matrix, hstack\n",
        "from sklearn.metrics.pairwise import euclidean_distances, cosine_distances, cosine_similarity\n"
      ]
    },
    {
      "cell_type": "code",
      "execution_count": null,
      "id": "606dedb1",
      "metadata": {
        "execution": {
          "iopub.execute_input": "2022-11-27T16:34:49.078524Z",
          "iopub.status.busy": "2022-11-27T16:34:49.078069Z",
          "iopub.status.idle": "2022-11-27T16:34:49.082700Z",
          "shell.execute_reply": "2022-11-27T16:34:49.081542Z"
        },
        "papermill": {
          "duration": 0.01694,
          "end_time": "2022-11-27T16:34:49.085164",
          "exception": false,
          "start_time": "2022-11-27T16:34:49.068224",
          "status": "completed"
        },
        "tags": [],
        "id": "606dedb1"
      },
      "outputs": [],
      "source": [
        "import time"
      ]
    },
    {
      "cell_type": "code",
      "execution_count": null,
      "id": "e126014d",
      "metadata": {
        "execution": {
          "iopub.execute_input": "2022-11-27T16:34:01.010002Z",
          "iopub.status.busy": "2022-11-27T16:34:01.009584Z",
          "iopub.status.idle": "2022-11-27T16:34:04.065652Z",
          "shell.execute_reply": "2022-11-27T16:34:04.064531Z"
        },
        "papermill": {
          "duration": 3.067001,
          "end_time": "2022-11-27T16:34:04.068318",
          "exception": false,
          "start_time": "2022-11-27T16:34:01.001317",
          "status": "completed"
        },
        "tags": [],
        "id": "e126014d"
      },
      "outputs": [],
      "source": [
        "import logging\n",
        "from logging import getLogger\n",
        "from recbole.config import Config\n",
        "from recbole.data import create_dataset, data_preparation\n",
        "from recbole.model.sequential_recommender import GRU4Rec, Caser\n",
        "from recbole.trainer import Trainer\n",
        "from recbole.utils import init_seed, init_logger\n",
        "from recbole.quick_start import run_recbole\n",
        "from recbole.model.general_recommender import RecVAE"
      ]
    },
    {
      "cell_type": "code",
      "source": [
        "from google.colab import drive\n",
        "drive.mount('/content/drive')"
      ],
      "metadata": {
        "colab": {
          "base_uri": "https://localhost:8080/"
        },
        "id": "R1Y_eRlnYRvL",
        "outputId": "941cbf48-28eb-4603-8a5d-37dc4c5578cd"
      },
      "id": "R1Y_eRlnYRvL",
      "execution_count": null,
      "outputs": [
        {
          "output_type": "stream",
          "name": "stdout",
          "text": [
            "Mounted at /content/drive\n"
          ]
        }
      ]
    },
    {
      "cell_type": "code",
      "execution_count": null,
      "id": "c54b3e92",
      "metadata": {
        "execution": {
          "iopub.execute_input": "2022-11-27T16:33:29.290143Z",
          "iopub.status.busy": "2022-11-27T16:33:29.289663Z",
          "iopub.status.idle": "2022-11-27T16:33:29.294603Z",
          "shell.execute_reply": "2022-11-27T16:33:29.293618Z"
        },
        "papermill": {
          "duration": 0.013788,
          "end_time": "2022-11-27T16:33:29.297243",
          "exception": false,
          "start_time": "2022-11-27T16:33:29.283455",
          "status": "completed"
        },
        "tags": [],
        "id": "c54b3e92"
      },
      "outputs": [],
      "source": [
        "import warnings\n",
        "warnings.filterwarnings('ignore')"
      ]
    },
    {
      "cell_type": "markdown",
      "source": [
        "# Чтение данных"
      ],
      "metadata": {
        "id": "lWFiPa_UZRSf"
      },
      "id": "lWFiPa_UZRSf"
    },
    {
      "cell_type": "code",
      "execution_count": null,
      "id": "9052ce21",
      "metadata": {
        "execution": {
          "iopub.execute_input": "2022-11-27T16:33:29.309390Z",
          "iopub.status.busy": "2022-11-27T16:33:29.308918Z",
          "iopub.status.idle": "2022-11-27T16:33:35.744619Z",
          "shell.execute_reply": "2022-11-27T16:33:35.743511Z"
        },
        "papermill": {
          "duration": 6.445298,
          "end_time": "2022-11-27T16:33:35.747539",
          "exception": false,
          "start_time": "2022-11-27T16:33:29.302241",
          "status": "completed"
        },
        "tags": [],
        "id": "9052ce21"
      },
      "outputs": [],
      "source": [
        "interactions_df = pd.read_csv('/content/drive/MyDrive/Colab Notebooks/ИТМО/Recsys/5/interactions_processed_kion.csv')\n",
        "users_df = pd.read_csv('/content/drive/MyDrive/Colab Notebooks/ИТМО/Recsys/5/users_processed_kion.csv')\n",
        "items_df = pd.read_csv('/content/drive/MyDrive/Colab Notebooks/ИТМО/Recsys/5/items_processed_kion.csv')"
      ]
    },
    {
      "cell_type": "code",
      "execution_count": null,
      "id": "0b371b15",
      "metadata": {
        "execution": {
          "iopub.execute_input": "2022-11-27T16:33:35.759448Z",
          "iopub.status.busy": "2022-11-27T16:33:35.758615Z",
          "iopub.status.idle": "2022-11-27T16:33:36.674749Z",
          "shell.execute_reply": "2022-11-27T16:33:36.673314Z"
        },
        "papermill": {
          "duration": 0.925082,
          "end_time": "2022-11-27T16:33:36.677439",
          "exception": false,
          "start_time": "2022-11-27T16:33:35.752357",
          "status": "completed"
        },
        "tags": [],
        "id": "0b371b15"
      },
      "outputs": [],
      "source": [
        "interactions_df['t_dat'] = pd.to_datetime(interactions_df['last_watch_dt'], format=\"%Y-%m-%d\")\n",
        "interactions_df['timestamp'] = interactions_df.t_dat.values.astype(np.int64) // 10 ** 9"
      ]
    },
    {
      "cell_type": "code",
      "execution_count": null,
      "id": "7f075c88",
      "metadata": {
        "execution": {
          "iopub.execute_input": "2022-11-27T16:33:36.688908Z",
          "iopub.status.busy": "2022-11-27T16:33:36.688507Z",
          "iopub.status.idle": "2022-11-27T16:33:36.963693Z",
          "shell.execute_reply": "2022-11-27T16:33:36.962323Z"
        },
        "papermill": {
          "duration": 0.284147,
          "end_time": "2022-11-27T16:33:36.966533",
          "exception": false,
          "start_time": "2022-11-27T16:33:36.682386",
          "status": "completed"
        },
        "tags": [],
        "id": "7f075c88"
      },
      "outputs": [],
      "source": [
        "df = interactions_df[['user_id', 'item_id', 'timestamp']].rename(\n",
        "    columns={'user_id': 'user_id:token', 'item_id': 'item_id:token', 'timestamp': 'timestamp:float'})"
      ]
    },
    {
      "cell_type": "code",
      "execution_count": null,
      "id": "aab347ea",
      "metadata": {
        "execution": {
          "iopub.execute_input": "2022-11-27T16:33:36.978797Z",
          "iopub.status.busy": "2022-11-27T16:33:36.977868Z",
          "iopub.status.idle": "2022-11-27T16:33:38.064289Z",
          "shell.execute_reply": "2022-11-27T16:33:38.062510Z"
        },
        "papermill": {
          "duration": 1.09547,
          "end_time": "2022-11-27T16:33:38.067180",
          "exception": false,
          "start_time": "2022-11-27T16:33:36.971710",
          "status": "completed"
        },
        "tags": [],
        "id": "aab347ea"
      },
      "outputs": [],
      "source": [
        "!mkdir recbox_data"
      ]
    },
    {
      "cell_type": "code",
      "execution_count": null,
      "id": "dff1fa1b",
      "metadata": {
        "execution": {
          "iopub.execute_input": "2022-11-27T16:33:38.079447Z",
          "iopub.status.busy": "2022-11-27T16:33:38.078986Z",
          "iopub.status.idle": "2022-11-27T16:33:45.904144Z",
          "shell.execute_reply": "2022-11-27T16:33:45.902874Z"
        },
        "papermill": {
          "duration": 7.834652,
          "end_time": "2022-11-27T16:33:45.906924",
          "exception": false,
          "start_time": "2022-11-27T16:33:38.072272",
          "status": "completed"
        },
        "tags": [],
        "id": "dff1fa1b"
      },
      "outputs": [],
      "source": [
        "df.to_csv('recbox_data/recbox_data.inter', index=False, sep='\\t')"
      ]
    },
    {
      "cell_type": "markdown",
      "source": [
        "# Подготовка данных и модели"
      ],
      "metadata": {
        "id": "qJ6pG_UEZYut"
      },
      "id": "qJ6pG_UEZYut"
    },
    {
      "cell_type": "code",
      "execution_count": null,
      "id": "a4b97bdc",
      "metadata": {
        "execution": {
          "iopub.execute_input": "2022-11-27T16:34:04.084646Z",
          "iopub.status.busy": "2022-11-27T16:34:04.083930Z",
          "iopub.status.idle": "2022-11-27T16:34:04.217448Z",
          "shell.execute_reply": "2022-11-27T16:34:04.216060Z"
        },
        "papermill": {
          "duration": 0.145622,
          "end_time": "2022-11-27T16:34:04.220395",
          "exception": false,
          "start_time": "2022-11-27T16:34:04.074773",
          "status": "completed"
        },
        "tags": [],
        "colab": {
          "base_uri": "https://localhost:8080/"
        },
        "id": "a4b97bdc",
        "outputId": "79765b31-46e9-411b-fca8-8dfb014f945a"
      },
      "outputs": [
        {
          "output_type": "stream",
          "name": "stderr",
          "text": [
            "WARNING:root:command line args [-f /root/.local/share/jupyter/runtime/kernel-721ec768-09a6-4b54-bf44-4e614324ec3c.json] will not be used in RecBole\n"
          ]
        }
      ],
      "source": [
        "parameter_dict = {\n",
        "    'data_path': '',\n",
        "    'USER_ID_FIELD': 'user_id',\n",
        "    'ITEM_ID_FIELD': 'item_id',\n",
        "    'TIME_FIELD': 'timestamp',\n",
        "    'device': 'GPU',\n",
        "    'user_inter_num_interval': \"[40,inf)\",\n",
        "    'item_inter_num_interval': \"[40,inf)\",\n",
        "    'load_col': {'inter': ['user_id', 'item_id', 'timestamp']},\n",
        "    'neg_sampling': None,\n",
        "    'epochs': 10,\n",
        "    'eval_args': {\n",
        "        'split': {'RS': [9, 0, 1]},\n",
        "        'group_by': 'user',\n",
        "        'order': 'TO',\n",
        "        'mode': 'full'}\n",
        "}\n",
        "config = Config(model='MultiVAE', dataset='recbox_data', config_dict=parameter_dict)\n",
        "\n",
        "# init random seed\n",
        "init_seed(config['seed'], config['reproducibility'])\n",
        "\n",
        "# logger initialization\n",
        "init_logger(config)\n",
        "logger = getLogger()\n",
        "# Create handlers\n",
        "c_handler = logging.StreamHandler()\n",
        "c_handler.setLevel(logging.INFO)\n",
        "logger.addHandler(c_handler)\n",
        "\n",
        "# write config info into log\n",
        "# logger.info(config)"
      ]
    },
    {
      "cell_type": "code",
      "execution_count": null,
      "id": "d6d18eea",
      "metadata": {
        "execution": {
          "iopub.execute_input": "2022-11-27T16:34:04.236251Z",
          "iopub.status.busy": "2022-11-27T16:34:04.235805Z",
          "iopub.status.idle": "2022-11-27T16:34:46.795905Z",
          "shell.execute_reply": "2022-11-27T16:34:46.794283Z"
        },
        "papermill": {
          "duration": 42.583583,
          "end_time": "2022-11-27T16:34:46.811041",
          "exception": false,
          "start_time": "2022-11-27T16:34:04.227458",
          "status": "completed"
        },
        "tags": [],
        "id": "d6d18eea"
      },
      "outputs": [],
      "source": [
        "dataset = create_dataset(config)\n",
        "logger.info(dataset)"
      ]
    },
    {
      "cell_type": "code",
      "execution_count": null,
      "id": "66706c2e",
      "metadata": {
        "execution": {
          "iopub.execute_input": "2022-11-27T16:34:46.827485Z",
          "iopub.status.busy": "2022-11-27T16:34:46.827025Z",
          "iopub.status.idle": "2022-11-27T16:34:49.051342Z",
          "shell.execute_reply": "2022-11-27T16:34:49.049929Z"
        },
        "papermill": {
          "duration": 2.241551,
          "end_time": "2022-11-27T16:34:49.059852",
          "exception": false,
          "start_time": "2022-11-27T16:34:46.818301",
          "status": "completed"
        },
        "tags": [],
        "id": "66706c2e"
      },
      "outputs": [],
      "source": [
        "# dataset splitting\n",
        "train_data, valid_data, test_data = data_preparation(config, dataset)"
      ]
    },
    {
      "cell_type": "markdown",
      "source": [
        "# Обучение моделей"
      ],
      "metadata": {
        "id": "kM3wTj8OZeqy"
      },
      "id": "kM3wTj8OZeqy"
    },
    {
      "cell_type": "code",
      "execution_count": null,
      "id": "5f5ae775",
      "metadata": {
        "execution": {
          "iopub.execute_input": "2022-11-27T16:34:49.103661Z",
          "iopub.status.busy": "2022-11-27T16:34:49.103250Z",
          "iopub.status.idle": "2022-11-28T00:09:08.384762Z",
          "shell.execute_reply": "2022-11-28T00:09:08.383614Z"
        },
        "papermill": {
          "duration": 27259.293886,
          "end_time": "2022-11-28T00:09:08.387403",
          "exception": false,
          "start_time": "2022-11-27T16:34:49.093517",
          "status": "completed"
        },
        "tags": [],
        "colab": {
          "base_uri": "https://localhost:8080/"
        },
        "id": "5f5ae775",
        "outputId": "ab1504a1-b11c-4240-94d5-76fa05cb4325"
      },
      "outputs": [
        {
          "output_type": "stream",
          "name": "stdout",
          "text": [
            "running MultiVAE...\n"
          ]
        },
        {
          "output_type": "stream",
          "name": "stderr",
          "text": [
            "WARNING:root:command line args [-f /root/.local/share/jupyter/runtime/kernel-721ec768-09a6-4b54-bf44-4e614324ec3c.json] will not be used in RecBole\n",
            "command line args [-f /root/.local/share/jupyter/runtime/kernel-721ec768-09a6-4b54-bf44-4e614324ec3c.json] will not be used in RecBole\n",
            "WARNING:root:Max value of user's history interaction records has reached 20.9471766848816% of the total.\n",
            "Max value of user's history interaction records has reached 20.9471766848816% of the total.\n",
            "Train     0: 100%|███████████████████████████| 7/7 [00:00<00:00, 14.11it/s, GPU RAM: 0.38 G/14.75 G]\n",
            "Train     1: 100%|███████████████████████████| 7/7 [00:00<00:00, 17.53it/s, GPU RAM: 0.38 G/14.75 G]\n",
            "Train     2: 100%|███████████████████████████| 7/7 [00:00<00:00, 15.61it/s, GPU RAM: 0.38 G/14.75 G]\n",
            "Train     3: 100%|███████████████████████████| 7/7 [00:00<00:00, 17.66it/s, GPU RAM: 0.38 G/14.75 G]\n",
            "Train     4: 100%|███████████████████████████| 7/7 [00:00<00:00, 18.11it/s, GPU RAM: 0.38 G/14.75 G]\n",
            "Train     5: 100%|███████████████████████████| 7/7 [00:00<00:00, 18.29it/s, GPU RAM: 0.38 G/14.75 G]\n",
            "Train     6: 100%|███████████████████████████| 7/7 [00:00<00:00, 19.83it/s, GPU RAM: 0.38 G/14.75 G]\n",
            "Train     7: 100%|███████████████████████████| 7/7 [00:00<00:00, 20.41it/s, GPU RAM: 0.38 G/14.75 G]\n",
            "Train     8: 100%|███████████████████████████| 7/7 [00:00<00:00, 14.53it/s, GPU RAM: 0.38 G/14.75 G]\n",
            "Train     9: 100%|███████████████████████████| 7/7 [00:00<00:00, 14.43it/s, GPU RAM: 0.38 G/14.75 G]\n",
            "Evaluate   : 100%|███████████████████| 13354/13354 [02:17<00:00, 97.10it/s, GPU RAM: 0.38 G/14.75 G]\n"
          ]
        },
        {
          "output_type": "stream",
          "name": "stdout",
          "text": [
            "It took 3.47 mins\n",
            "{'best_valid_score': -inf, 'valid_score_bigger': True, 'best_valid_result': None, 'test_result': OrderedDict([('recall@10', 0.0834), ('mrr@10', 0.1671), ('ndcg@10', 0.0816), ('hit@10', 0.3466), ('precision@10', 0.0462)])}\n",
            "running MultiDAE...\n"
          ]
        },
        {
          "output_type": "stream",
          "name": "stderr",
          "text": [
            "WARNING:root:command line args [-f /root/.local/share/jupyter/runtime/kernel-721ec768-09a6-4b54-bf44-4e614324ec3c.json] will not be used in RecBole\n",
            "command line args [-f /root/.local/share/jupyter/runtime/kernel-721ec768-09a6-4b54-bf44-4e614324ec3c.json] will not be used in RecBole\n",
            "WARNING:root:Max value of user's history interaction records has reached 20.9471766848816% of the total.\n",
            "Max value of user's history interaction records has reached 20.9471766848816% of the total.\n",
            "Train     0: 100%|███████████████████████████| 7/7 [00:00<00:00, 14.04it/s, GPU RAM: 0.38 G/14.75 G]\n",
            "Train     1: 100%|███████████████████████████| 7/7 [00:00<00:00, 13.86it/s, GPU RAM: 0.38 G/14.75 G]\n",
            "Train     2: 100%|███████████████████████████| 7/7 [00:04<00:00,  1.72it/s, GPU RAM: 0.38 G/14.75 G]\n",
            "Train     3: 100%|███████████████████████████| 7/7 [00:00<00:00, 10.05it/s, GPU RAM: 0.38 G/14.75 G]\n",
            "Train     4: 100%|███████████████████████████| 7/7 [00:01<00:00,  6.00it/s, GPU RAM: 0.38 G/14.75 G]\n",
            "Train     5: 100%|███████████████████████████| 7/7 [00:00<00:00,  9.99it/s, GPU RAM: 0.38 G/14.75 G]\n",
            "Train     6: 100%|███████████████████████████| 7/7 [00:02<00:00,  2.67it/s, GPU RAM: 0.38 G/14.75 G]\n",
            "Train     7: 100%|███████████████████████████| 7/7 [00:00<00:00,  8.40it/s, GPU RAM: 0.38 G/14.75 G]\n",
            "Train     8: 100%|███████████████████████████| 7/7 [00:01<00:00,  6.36it/s, GPU RAM: 0.38 G/14.75 G]\n",
            "Train     9: 100%|███████████████████████████| 7/7 [00:00<00:00, 13.44it/s, GPU RAM: 0.38 G/14.75 G]\n",
            "Evaluate   : 100%|███████████████████| 13354/13354 [02:29<00:00, 89.20it/s, GPU RAM: 0.38 G/14.75 G]\n"
          ]
        },
        {
          "output_type": "stream",
          "name": "stdout",
          "text": [
            "It took 4.38 mins\n",
            "{'best_valid_score': -inf, 'valid_score_bigger': True, 'best_valid_result': None, 'test_result': OrderedDict([('recall@10', 0.0837), ('mrr@10', 0.1657), ('ndcg@10', 0.0814), ('hit@10', 0.3466), ('precision@10', 0.0463)])}\n",
            "running MacridVAE...\n"
          ]
        },
        {
          "output_type": "stream",
          "name": "stderr",
          "text": [
            "WARNING:root:command line args [-f /root/.local/share/jupyter/runtime/kernel-721ec768-09a6-4b54-bf44-4e614324ec3c.json] will not be used in RecBole\n",
            "command line args [-f /root/.local/share/jupyter/runtime/kernel-721ec768-09a6-4b54-bf44-4e614324ec3c.json] will not be used in RecBole\n",
            "WARNING:root:Max value of user's history interaction records has reached 20.9471766848816% of the total.\n",
            "Max value of user's history interaction records has reached 20.9471766848816% of the total.\n",
            "Train     0: 100%|███████████████████████████| 7/7 [00:06<00:00,  1.11it/s, GPU RAM: 0.95 G/14.75 G]\n",
            "Train     1: 100%|███████████████████████████| 7/7 [00:05<00:00,  1.28it/s, GPU RAM: 0.95 G/14.75 G]\n",
            "Train     2: 100%|███████████████████████████| 7/7 [00:24<00:00,  3.45s/it, GPU RAM: 0.95 G/14.75 G]\n",
            "Train     3: 100%|███████████████████████████| 7/7 [00:07<00:00,  1.11s/it, GPU RAM: 0.95 G/14.75 G]\n",
            "Train     4: 100%|███████████████████████████| 7/7 [00:01<00:00,  3.61it/s, GPU RAM: 0.95 G/14.75 G]\n",
            "Train     5: 100%|███████████████████████████| 7/7 [00:01<00:00,  3.61it/s, GPU RAM: 0.95 G/14.75 G]\n",
            "Train     6: 100%|███████████████████████████| 7/7 [00:02<00:00,  2.46it/s, GPU RAM: 0.95 G/14.75 G]\n",
            "Train     7: 100%|███████████████████████████| 7/7 [00:02<00:00,  2.48it/s, GPU RAM: 0.95 G/14.75 G]\n",
            "Train     8: 100%|███████████████████████████| 7/7 [00:02<00:00,  3.35it/s, GPU RAM: 0.95 G/14.75 G]\n",
            "Train     9: 100%|███████████████████████████| 7/7 [00:01<00:00,  3.64it/s, GPU RAM: 0.95 G/14.75 G]\n",
            "Evaluate   : 100%|███████████████████| 13354/13354 [06:41<00:00, 33.27it/s, GPU RAM: 0.95 G/14.75 G]\n"
          ]
        },
        {
          "output_type": "stream",
          "name": "stdout",
          "text": [
            "It took 9.35 mins\n",
            "{'best_valid_score': -inf, 'valid_score_bigger': True, 'best_valid_result': None, 'test_result': OrderedDict([('recall@10', 0.0827), ('mrr@10', 0.1548), ('ndcg@10', 0.0775), ('hit@10', 0.3469), ('precision@10', 0.0455)])}\n",
            "running NeuMF...\n"
          ]
        },
        {
          "output_type": "stream",
          "name": "stderr",
          "text": [
            "WARNING:root:command line args [-f /root/.local/share/jupyter/runtime/kernel-721ec768-09a6-4b54-bf44-4e614324ec3c.json] will not be used in RecBole\n",
            "command line args [-f /root/.local/share/jupyter/runtime/kernel-721ec768-09a6-4b54-bf44-4e614324ec3c.json] will not be used in RecBole\n",
            "Train     0: 100%|███████████████████████| 755/755 [00:35<00:00, 20.98it/s, GPU RAM: 0.95 G/14.75 G]\n",
            "Train     1: 100%|███████████████████████| 755/755 [00:35<00:00, 20.97it/s, GPU RAM: 0.95 G/14.75 G]\n",
            "Train     2: 100%|███████████████████████| 755/755 [00:38<00:00, 19.78it/s, GPU RAM: 0.95 G/14.75 G]\n",
            "Train     3: 100%|███████████████████████| 755/755 [00:36<00:00, 20.63it/s, GPU RAM: 0.95 G/14.75 G]\n",
            "Train     4: 100%|███████████████████████| 755/755 [00:36<00:00, 20.78it/s, GPU RAM: 0.95 G/14.75 G]\n",
            "Train     5: 100%|███████████████████████| 755/755 [00:36<00:00, 20.96it/s, GPU RAM: 0.95 G/14.75 G]\n",
            "Train     6: 100%|███████████████████████| 755/755 [00:35<00:00, 20.97it/s, GPU RAM: 0.95 G/14.75 G]\n",
            "Train     7: 100%|███████████████████████| 755/755 [00:36<00:00, 20.52it/s, GPU RAM: 0.95 G/14.75 G]\n",
            "Train     8: 100%|███████████████████████| 755/755 [00:36<00:00, 20.43it/s, GPU RAM: 0.95 G/14.75 G]\n",
            "Train     9: 100%|███████████████████████| 755/755 [00:36<00:00, 20.61it/s, GPU RAM: 0.95 G/14.75 G]\n",
            "Evaluate   : 100%|███████████████████| 13354/13354 [03:36<00:00, 61.79it/s, GPU RAM: 0.95 G/14.75 G]\n"
          ]
        },
        {
          "output_type": "stream",
          "name": "stdout",
          "text": [
            "It took 10.44 mins\n",
            "{'best_valid_score': -inf, 'valid_score_bigger': True, 'best_valid_result': None, 'test_result': OrderedDict([('recall@10', 0.0687), ('mrr@10', 0.1181), ('ndcg@10', 0.0607), ('hit@10', 0.3008), ('precision@10', 0.038)])}\n",
            "running RecVAE...\n"
          ]
        },
        {
          "output_type": "stream",
          "name": "stderr",
          "text": [
            "WARNING:root:command line args [-f /root/.local/share/jupyter/runtime/kernel-721ec768-09a6-4b54-bf44-4e614324ec3c.json] will not be used in RecBole\n",
            "command line args [-f /root/.local/share/jupyter/runtime/kernel-721ec768-09a6-4b54-bf44-4e614324ec3c.json] will not be used in RecBole\n",
            "WARNING:root:Max value of user's history interaction records has reached 20.9471766848816% of the total.\n",
            "Max value of user's history interaction records has reached 20.9471766848816% of the total.\n",
            "Train     0: 100%|███████████████████████████| 7/7 [00:01<00:00,  6.86it/s, GPU RAM: 0.95 G/14.75 G]\n",
            "Train     0: 100%|███████████████████████████| 7/7 [00:00<00:00,  7.62it/s, GPU RAM: 0.95 G/14.75 G]\n",
            "Train     0: 100%|███████████████████████████| 7/7 [00:00<00:00,  9.22it/s, GPU RAM: 0.95 G/14.75 G]\n",
            "Train     0: 100%|███████████████████████████| 7/7 [00:00<00:00,  8.79it/s, GPU RAM: 0.95 G/14.75 G]\n",
            "Train     1: 100%|███████████████████████████| 7/7 [00:00<00:00,  8.57it/s, GPU RAM: 0.95 G/14.75 G]\n",
            "Train     1: 100%|███████████████████████████| 7/7 [00:00<00:00,  9.19it/s, GPU RAM: 0.95 G/14.75 G]\n",
            "Train     1: 100%|███████████████████████████| 7/7 [00:00<00:00,  8.15it/s, GPU RAM: 0.95 G/14.75 G]\n",
            "Train     1: 100%|███████████████████████████| 7/7 [00:01<00:00,  6.58it/s, GPU RAM: 0.95 G/14.75 G]\n",
            "Train     2: 100%|███████████████████████████| 7/7 [00:01<00:00,  6.91it/s, GPU RAM: 0.95 G/14.75 G]\n",
            "Train     2: 100%|███████████████████████████| 7/7 [00:00<00:00,  8.59it/s, GPU RAM: 0.95 G/14.75 G]\n",
            "Train     2: 100%|███████████████████████████| 7/7 [00:00<00:00,  8.63it/s, GPU RAM: 0.95 G/14.75 G]\n",
            "Train     2: 100%|███████████████████████████| 7/7 [00:00<00:00,  8.38it/s, GPU RAM: 0.95 G/14.75 G]\n",
            "Train     3: 100%|███████████████████████████| 7/7 [00:00<00:00,  7.62it/s, GPU RAM: 0.95 G/14.75 G]\n",
            "Train     3: 100%|███████████████████████████| 7/7 [00:01<00:00,  6.47it/s, GPU RAM: 0.95 G/14.75 G]\n",
            "Train     3: 100%|███████████████████████████| 7/7 [00:01<00:00,  6.76it/s, GPU RAM: 0.95 G/14.75 G]\n",
            "Train     3: 100%|███████████████████████████| 7/7 [00:01<00:00,  6.84it/s, GPU RAM: 0.95 G/14.75 G]\n",
            "Train     4: 100%|███████████████████████████| 7/7 [00:01<00:00,  6.13it/s, GPU RAM: 0.95 G/14.75 G]\n",
            "Train     4: 100%|███████████████████████████| 7/7 [00:01<00:00,  6.34it/s, GPU RAM: 0.95 G/14.75 G]\n",
            "Train     4: 100%|███████████████████████████| 7/7 [00:00<00:00,  7.15it/s, GPU RAM: 0.95 G/14.75 G]\n",
            "Train     4: 100%|███████████████████████████| 7/7 [00:00<00:00,  7.19it/s, GPU RAM: 0.95 G/14.75 G]\n",
            "Train     5: 100%|███████████████████████████| 7/7 [00:00<00:00,  7.92it/s, GPU RAM: 0.95 G/14.75 G]\n",
            "Train     5: 100%|███████████████████████████| 7/7 [00:00<00:00,  8.37it/s, GPU RAM: 0.95 G/14.75 G]\n",
            "Train     5: 100%|███████████████████████████| 7/7 [00:00<00:00,  7.99it/s, GPU RAM: 0.95 G/14.75 G]\n",
            "Train     5: 100%|███████████████████████████| 7/7 [00:00<00:00,  7.68it/s, GPU RAM: 0.95 G/14.75 G]\n",
            "Train     6: 100%|███████████████████████████| 7/7 [00:00<00:00,  8.71it/s, GPU RAM: 0.95 G/14.75 G]\n",
            "Train     6: 100%|███████████████████████████| 7/7 [00:00<00:00,  8.99it/s, GPU RAM: 0.95 G/14.75 G]\n",
            "Train     6: 100%|███████████████████████████| 7/7 [00:00<00:00,  9.03it/s, GPU RAM: 0.95 G/14.75 G]\n",
            "Train     6: 100%|███████████████████████████| 7/7 [00:00<00:00, 10.01it/s, GPU RAM: 0.95 G/14.75 G]\n",
            "Train     7: 100%|███████████████████████████| 7/7 [00:00<00:00,  9.46it/s, GPU RAM: 0.95 G/14.75 G]\n",
            "Train     7: 100%|███████████████████████████| 7/7 [00:00<00:00,  8.46it/s, GPU RAM: 0.95 G/14.75 G]\n",
            "Train     7: 100%|███████████████████████████| 7/7 [00:00<00:00,  8.56it/s, GPU RAM: 0.95 G/14.75 G]\n",
            "Train     7: 100%|███████████████████████████| 7/7 [00:00<00:00,  8.25it/s, GPU RAM: 0.95 G/14.75 G]\n",
            "Train     8: 100%|███████████████████████████| 7/7 [00:00<00:00,  7.00it/s, GPU RAM: 0.95 G/14.75 G]\n",
            "Train     8: 100%|███████████████████████████| 7/7 [00:00<00:00,  7.11it/s, GPU RAM: 0.95 G/14.75 G]\n",
            "Train     8: 100%|███████████████████████████| 7/7 [00:01<00:00,  6.21it/s, GPU RAM: 0.95 G/14.75 G]\n",
            "Train     8: 100%|███████████████████████████| 7/7 [00:01<00:00,  6.79it/s, GPU RAM: 0.95 G/14.75 G]\n",
            "Train     9: 100%|███████████████████████████| 7/7 [00:01<00:00,  5.94it/s, GPU RAM: 0.95 G/14.75 G]\n",
            "Train     9: 100%|███████████████████████████| 7/7 [00:01<00:00,  6.56it/s, GPU RAM: 0.95 G/14.75 G]\n",
            "Train     9: 100%|███████████████████████████| 7/7 [00:00<00:00,  7.02it/s, GPU RAM: 0.95 G/14.75 G]\n",
            "Train     9: 100%|███████████████████████████| 7/7 [00:00<00:00,  8.97it/s, GPU RAM: 0.95 G/14.75 G]\n",
            "Evaluate   : 100%|███████████████████| 13354/13354 [04:24<00:00, 50.43it/s, GPU RAM: 0.95 G/14.75 G]\n"
          ]
        },
        {
          "output_type": "stream",
          "name": "stdout",
          "text": [
            "It took 7.13 mins\n",
            "{'best_valid_score': -inf, 'valid_score_bigger': True, 'best_valid_result': None, 'test_result': OrderedDict([('recall@10', 0.0846), ('mrr@10', 0.1661), ('ndcg@10', 0.0818), ('hit@10', 0.3523), ('precision@10', 0.0469)])}\n",
            "CPU times: user 29min 50s, sys: 1min 52s, total: 31min 43s\n",
            "Wall time: 34min 46s\n"
          ]
        }
      ],
      "source": [
        "%%time\n",
        "model_list = ['MultiVAE', 'MultiDAE', 'MacridVAE',\n",
        "              \"NeuMF\", \"RecVAE\"]\n",
        "results = {}\n",
        "\n",
        "for model_name in model_list:\n",
        "    print(f\"running {model_name}...\")\n",
        "    start = time.time()\n",
        "    result = run_recbole(model=model_name, dataset = 'recbox_data',config_dict = parameter_dict)\n",
        "    results[model_name] = result\n",
        "    t = time.time() - start\n",
        "    print(f\"It took {t/60:.2f} mins\")\n",
        "    print(result)"
      ]
    },
    {
      "cell_type": "markdown",
      "source": [
        "# Результаты"
      ],
      "metadata": {
        "id": "y5k7xhk5Zikt"
      },
      "id": "y5k7xhk5Zikt"
    },
    {
      "cell_type": "code",
      "source": [
        "results"
      ],
      "metadata": {
        "colab": {
          "base_uri": "https://localhost:8080/"
        },
        "id": "ujdqHUIAQe6P",
        "outputId": "53585d8b-ba1e-4ba6-8ed1-51ccd1077bd8"
      },
      "id": "ujdqHUIAQe6P",
      "execution_count": null,
      "outputs": [
        {
          "output_type": "execute_result",
          "data": {
            "text/plain": [
              "{'MultiVAE': {'best_valid_score': -inf,\n",
              "  'valid_score_bigger': True,\n",
              "  'best_valid_result': None,\n",
              "  'test_result': OrderedDict([('recall@10', 0.0834),\n",
              "               ('mrr@10', 0.1671),\n",
              "               ('ndcg@10', 0.0816),\n",
              "               ('hit@10', 0.3466),\n",
              "               ('precision@10', 0.0462)])},\n",
              " 'MultiDAE': {'best_valid_score': -inf,\n",
              "  'valid_score_bigger': True,\n",
              "  'best_valid_result': None,\n",
              "  'test_result': OrderedDict([('recall@10', 0.0837),\n",
              "               ('mrr@10', 0.1657),\n",
              "               ('ndcg@10', 0.0814),\n",
              "               ('hit@10', 0.3466),\n",
              "               ('precision@10', 0.0463)])},\n",
              " 'MacridVAE': {'best_valid_score': -inf,\n",
              "  'valid_score_bigger': True,\n",
              "  'best_valid_result': None,\n",
              "  'test_result': OrderedDict([('recall@10', 0.0827),\n",
              "               ('mrr@10', 0.1548),\n",
              "               ('ndcg@10', 0.0775),\n",
              "               ('hit@10', 0.3469),\n",
              "               ('precision@10', 0.0455)])},\n",
              " 'NeuMF': {'best_valid_score': -inf,\n",
              "  'valid_score_bigger': True,\n",
              "  'best_valid_result': None,\n",
              "  'test_result': OrderedDict([('recall@10', 0.0687),\n",
              "               ('mrr@10', 0.1181),\n",
              "               ('ndcg@10', 0.0607),\n",
              "               ('hit@10', 0.3008),\n",
              "               ('precision@10', 0.038)])},\n",
              " 'RecVAE': {'best_valid_score': -inf,\n",
              "  'valid_score_bigger': True,\n",
              "  'best_valid_result': None,\n",
              "  'test_result': OrderedDict([('recall@10', 0.0846),\n",
              "               ('mrr@10', 0.1661),\n",
              "               ('ndcg@10', 0.0818),\n",
              "               ('hit@10', 0.3523),\n",
              "               ('precision@10', 0.0469)])}}"
            ]
          },
          "metadata": {},
          "execution_count": 16
        }
      ]
    },
    {
      "cell_type": "markdown",
      "source": [
        "Как мы видим, самые высокие показатели у RecVAE"
      ],
      "metadata": {
        "id": "hvjKIwCcZkmx"
      },
      "id": "hvjKIwCcZkmx"
    },
    {
      "cell_type": "markdown",
      "source": [
        "# Рекомендации"
      ],
      "metadata": {
        "id": "2rRBPd08ZH0U"
      },
      "id": "2rRBPd08ZH0U"
    },
    {
      "cell_type": "code",
      "source": [
        "config = Config(model='RecVAE', dataset='recbox_data', config_dict=parameter_dict)\n",
        "\n",
        "model = RecVAE(config, dataset)\n",
        "\n",
        "loaded_model = torch.load(\"/content/saved/RecVAE-Dec-12-2023_12-29-45.pth\")\n",
        "model.load_state_dict(loaded_model[\"state_dict\"]).to(\"cuda\")"
      ],
      "metadata": {
        "id": "ET9_WgsvS5ag"
      },
      "id": "ET9_WgsvS5ag",
      "execution_count": null,
      "outputs": []
    },
    {
      "cell_type": "code",
      "source": [
        "def recommend_items(user_id, dataset, model, k_recos):\n",
        "    if (user_id in dataset.field2token_id[dataset.uid_field] and user_id != \"[PAD]\"):\n",
        "        model.eval()\n",
        "        user = np.isin(dataset[dataset.uid_field].numpy(), dataset.token2id(dataset.uid_field, [user_id]))\n",
        "        dataset_user = dataset[user].to(\"cuda\")\n",
        "        predict = model.full_sort_predict(dataset_user).view(-1, test_data.dataset.item_num)\n",
        "        predict[:, 0] = -np.inf\n",
        "        item_indices = torch.topk(predict, k_recos).indices[0].to_list()\n",
        "        recos = dataset.id2token(dataset.iid_field, [item_indices]).to_list()\n",
        "    else:\n",
        "        recos = []\n",
        "    return recos\n",
        "\n",
        "recos_data = []\n",
        "users = dataset.field2token_id[dataset.uid_field]\n",
        "\n",
        "counter = 0\n",
        "for user_id in users:\n",
        "    counter+=1\n",
        "    recos_for_user = recommend_items(user_id, dataset, model,10)\n",
        "    if recos_for_user:\n",
        "        recos_data.extend([(user_id, item_id) for item_id in recos_for_user])\n",
        "    if counter % 100 == 0:\n",
        "        print(f\"Counter value: {counter}\")\n",
        "\n",
        "recos_df = pd.DataFrame(recos_data, columns=[\"user_id\", \"item_id\"])"
      ],
      "metadata": {
        "colab": {
          "base_uri": "https://localhost:8080/"
        },
        "id": "si-zstFpoSZt",
        "outputId": "b8249ad9-65a5-4805-992c-da31ce624380"
      },
      "id": "si-zstFpoSZt",
      "execution_count": null,
      "outputs": [
        {
          "output_type": "stream",
          "name": "stdout",
          "text": [
            "Counter value: 100\n",
            "Counter value: 200\n",
            "Counter value: 300\n",
            "Counter value: 400\n",
            "Counter value: 500\n",
            "Counter value: 600\n",
            "Counter value: 700\n",
            "Counter value: 800\n",
            "Counter value: 900\n",
            "Counter value: 1000\n",
            "Counter value: 1100\n",
            "Counter value: 1200\n",
            "Counter value: 1300\n",
            "Counter value: 1400\n",
            "Counter value: 1500\n",
            "Counter value: 1600\n",
            "Counter value: 1700\n",
            "Counter value: 1800\n",
            "Counter value: 1900\n",
            "Counter value: 2000\n",
            "Counter value: 2100\n",
            "Counter value: 2200\n",
            "Counter value: 2300\n",
            "Counter value: 2400\n",
            "Counter value: 2500\n",
            "Counter value: 2600\n",
            "Counter value: 2700\n",
            "Counter value: 2800\n",
            "Counter value: 2900\n",
            "Counter value: 3000\n",
            "Counter value: 3100\n",
            "Counter value: 3200\n",
            "Counter value: 3300\n",
            "Counter value: 3400\n",
            "Counter value: 3500\n",
            "Counter value: 3600\n",
            "Counter value: 3700\n",
            "Counter value: 3800\n",
            "Counter value: 3900\n",
            "Counter value: 4000\n",
            "Counter value: 4100\n",
            "Counter value: 4200\n",
            "Counter value: 4300\n",
            "Counter value: 4400\n",
            "Counter value: 4500\n",
            "Counter value: 4600\n",
            "Counter value: 4700\n",
            "Counter value: 4800\n",
            "Counter value: 4900\n",
            "Counter value: 5000\n",
            "Counter value: 5100\n",
            "Counter value: 5200\n",
            "Counter value: 5300\n",
            "Counter value: 5400\n",
            "Counter value: 5500\n",
            "Counter value: 5600\n",
            "Counter value: 5700\n",
            "Counter value: 5800\n",
            "Counter value: 5900\n",
            "Counter value: 6000\n",
            "Counter value: 6100\n",
            "Counter value: 6200\n",
            "Counter value: 6300\n",
            "Counter value: 6400\n",
            "Counter value: 6500\n",
            "Counter value: 6600\n",
            "Counter value: 6700\n",
            "Counter value: 6800\n",
            "Counter value: 6900\n",
            "Counter value: 7000\n",
            "Counter value: 7100\n",
            "Counter value: 7200\n",
            "Counter value: 7300\n",
            "Counter value: 7400\n",
            "Counter value: 7500\n",
            "Counter value: 7600\n",
            "Counter value: 7700\n",
            "Counter value: 7800\n",
            "Counter value: 7900\n",
            "Counter value: 8000\n",
            "Counter value: 8100\n",
            "Counter value: 8200\n",
            "Counter value: 8300\n",
            "Counter value: 8400\n",
            "Counter value: 8500\n",
            "Counter value: 8600\n",
            "Counter value: 8700\n",
            "Counter value: 8800\n",
            "Counter value: 8900\n",
            "Counter value: 9000\n",
            "Counter value: 9100\n",
            "Counter value: 9200\n",
            "Counter value: 9300\n",
            "Counter value: 9400\n",
            "Counter value: 9500\n",
            "Counter value: 9600\n",
            "Counter value: 9700\n",
            "Counter value: 9800\n",
            "Counter value: 9900\n",
            "Counter value: 10000\n",
            "Counter value: 10100\n",
            "Counter value: 10200\n",
            "Counter value: 10300\n",
            "Counter value: 10400\n",
            "Counter value: 10500\n",
            "Counter value: 10600\n",
            "Counter value: 10700\n",
            "Counter value: 10800\n",
            "Counter value: 10900\n",
            "Counter value: 11000\n",
            "Counter value: 11100\n",
            "Counter value: 11200\n",
            "Counter value: 11300\n",
            "Counter value: 11400\n",
            "Counter value: 11500\n",
            "Counter value: 11600\n",
            "Counter value: 11700\n",
            "Counter value: 11800\n",
            "Counter value: 11900\n",
            "Counter value: 12000\n",
            "Counter value: 12100\n",
            "Counter value: 12200\n",
            "Counter value: 12300\n",
            "Counter value: 12400\n",
            "Counter value: 12500\n",
            "Counter value: 12600\n",
            "Counter value: 12700\n",
            "Counter value: 12800\n",
            "Counter value: 12900\n",
            "Counter value: 13000\n",
            "Counter value: 13100\n",
            "Counter value: 13200\n",
            "Counter value: 13300\n"
          ]
        }
      ]
    },
    {
      "cell_type": "code",
      "source": [
        "recos_df"
      ],
      "metadata": {
        "colab": {
          "base_uri": "https://localhost:8080/",
          "height": 423
        },
        "id": "gVN8s2GLRXXF",
        "outputId": "2c7a0b30-a1d0-4eee-fe12-cf98d2ddc1a9"
      },
      "id": "gVN8s2GLRXXF",
      "execution_count": null,
      "outputs": [
        {
          "output_type": "execute_result",
          "data": {
            "text/plain": [
              "      user_id item_id\n",
              "0      176549    7626\n",
              "0      176549   12173\n",
              "0      176549   14317\n",
              "0      176549   11310\n",
              "0      176549    9728\n",
              "...       ...     ...\n",
              "13353  329210   13243\n",
              "13353  329210    7582\n",
              "13353  329210   11985\n",
              "13353  329210   10761\n",
              "13353  329210    5411\n",
              "\n",
              "[133540 rows x 2 columns]"
            ],
            "text/html": [
              "\n",
              "  <div id=\"df-775250bb-14a5-405c-9730-47a9e367be33\" class=\"colab-df-container\">\n",
              "    <div>\n",
              "<style scoped>\n",
              "    .dataframe tbody tr th:only-of-type {\n",
              "        vertical-align: middle;\n",
              "    }\n",
              "\n",
              "    .dataframe tbody tr th {\n",
              "        vertical-align: top;\n",
              "    }\n",
              "\n",
              "    .dataframe thead th {\n",
              "        text-align: right;\n",
              "    }\n",
              "</style>\n",
              "<table border=\"1\" class=\"dataframe\">\n",
              "  <thead>\n",
              "    <tr style=\"text-align: right;\">\n",
              "      <th></th>\n",
              "      <th>user_id</th>\n",
              "      <th>item_id</th>\n",
              "    </tr>\n",
              "  </thead>\n",
              "  <tbody>\n",
              "    <tr>\n",
              "      <th>0</th>\n",
              "      <td>176549</td>\n",
              "      <td>7626</td>\n",
              "    </tr>\n",
              "    <tr>\n",
              "      <th>0</th>\n",
              "      <td>176549</td>\n",
              "      <td>12173</td>\n",
              "    </tr>\n",
              "    <tr>\n",
              "      <th>0</th>\n",
              "      <td>176549</td>\n",
              "      <td>14317</td>\n",
              "    </tr>\n",
              "    <tr>\n",
              "      <th>0</th>\n",
              "      <td>176549</td>\n",
              "      <td>11310</td>\n",
              "    </tr>\n",
              "    <tr>\n",
              "      <th>0</th>\n",
              "      <td>176549</td>\n",
              "      <td>9728</td>\n",
              "    </tr>\n",
              "    <tr>\n",
              "      <th>...</th>\n",
              "      <td>...</td>\n",
              "      <td>...</td>\n",
              "    </tr>\n",
              "    <tr>\n",
              "      <th>13353</th>\n",
              "      <td>329210</td>\n",
              "      <td>13243</td>\n",
              "    </tr>\n",
              "    <tr>\n",
              "      <th>13353</th>\n",
              "      <td>329210</td>\n",
              "      <td>7582</td>\n",
              "    </tr>\n",
              "    <tr>\n",
              "      <th>13353</th>\n",
              "      <td>329210</td>\n",
              "      <td>11985</td>\n",
              "    </tr>\n",
              "    <tr>\n",
              "      <th>13353</th>\n",
              "      <td>329210</td>\n",
              "      <td>10761</td>\n",
              "    </tr>\n",
              "    <tr>\n",
              "      <th>13353</th>\n",
              "      <td>329210</td>\n",
              "      <td>5411</td>\n",
              "    </tr>\n",
              "  </tbody>\n",
              "</table>\n",
              "<p>133540 rows × 2 columns</p>\n",
              "</div>\n",
              "    <div class=\"colab-df-buttons\">\n",
              "\n",
              "  <div class=\"colab-df-container\">\n",
              "    <button class=\"colab-df-convert\" onclick=\"convertToInteractive('df-775250bb-14a5-405c-9730-47a9e367be33')\"\n",
              "            title=\"Convert this dataframe to an interactive table.\"\n",
              "            style=\"display:none;\">\n",
              "\n",
              "  <svg xmlns=\"http://www.w3.org/2000/svg\" height=\"24px\" viewBox=\"0 -960 960 960\">\n",
              "    <path d=\"M120-120v-720h720v720H120Zm60-500h600v-160H180v160Zm220 220h160v-160H400v160Zm0 220h160v-160H400v160ZM180-400h160v-160H180v160Zm440 0h160v-160H620v160ZM180-180h160v-160H180v160Zm440 0h160v-160H620v160Z\"/>\n",
              "  </svg>\n",
              "    </button>\n",
              "\n",
              "  <style>\n",
              "    .colab-df-container {\n",
              "      display:flex;\n",
              "      gap: 12px;\n",
              "    }\n",
              "\n",
              "    .colab-df-convert {\n",
              "      background-color: #E8F0FE;\n",
              "      border: none;\n",
              "      border-radius: 50%;\n",
              "      cursor: pointer;\n",
              "      display: none;\n",
              "      fill: #1967D2;\n",
              "      height: 32px;\n",
              "      padding: 0 0 0 0;\n",
              "      width: 32px;\n",
              "    }\n",
              "\n",
              "    .colab-df-convert:hover {\n",
              "      background-color: #E2EBFA;\n",
              "      box-shadow: 0px 1px 2px rgba(60, 64, 67, 0.3), 0px 1px 3px 1px rgba(60, 64, 67, 0.15);\n",
              "      fill: #174EA6;\n",
              "    }\n",
              "\n",
              "    .colab-df-buttons div {\n",
              "      margin-bottom: 4px;\n",
              "    }\n",
              "\n",
              "    [theme=dark] .colab-df-convert {\n",
              "      background-color: #3B4455;\n",
              "      fill: #D2E3FC;\n",
              "    }\n",
              "\n",
              "    [theme=dark] .colab-df-convert:hover {\n",
              "      background-color: #434B5C;\n",
              "      box-shadow: 0px 1px 3px 1px rgba(0, 0, 0, 0.15);\n",
              "      filter: drop-shadow(0px 1px 2px rgba(0, 0, 0, 0.3));\n",
              "      fill: #FFFFFF;\n",
              "    }\n",
              "  </style>\n",
              "\n",
              "    <script>\n",
              "      const buttonEl =\n",
              "        document.querySelector('#df-775250bb-14a5-405c-9730-47a9e367be33 button.colab-df-convert');\n",
              "      buttonEl.style.display =\n",
              "        google.colab.kernel.accessAllowed ? 'block' : 'none';\n",
              "\n",
              "      async function convertToInteractive(key) {\n",
              "        const element = document.querySelector('#df-775250bb-14a5-405c-9730-47a9e367be33');\n",
              "        const dataTable =\n",
              "          await google.colab.kernel.invokeFunction('convertToInteractive',\n",
              "                                                    [key], {});\n",
              "        if (!dataTable) return;\n",
              "\n",
              "        const docLinkHtml = 'Like what you see? Visit the ' +\n",
              "          '<a target=\"_blank\" href=https://colab.research.google.com/notebooks/data_table.ipynb>data table notebook</a>'\n",
              "          + ' to learn more about interactive tables.';\n",
              "        element.innerHTML = '';\n",
              "        dataTable['output_type'] = 'display_data';\n",
              "        await google.colab.output.renderOutput(dataTable, element);\n",
              "        const docLink = document.createElement('div');\n",
              "        docLink.innerHTML = docLinkHtml;\n",
              "        element.appendChild(docLink);\n",
              "      }\n",
              "    </script>\n",
              "  </div>\n",
              "\n",
              "\n",
              "<div id=\"df-50059f86-583a-43d7-8100-85913b9f1d59\">\n",
              "  <button class=\"colab-df-quickchart\" onclick=\"quickchart('df-50059f86-583a-43d7-8100-85913b9f1d59')\"\n",
              "            title=\"Suggest charts\"\n",
              "            style=\"display:none;\">\n",
              "\n",
              "<svg xmlns=\"http://www.w3.org/2000/svg\" height=\"24px\"viewBox=\"0 0 24 24\"\n",
              "     width=\"24px\">\n",
              "    <g>\n",
              "        <path d=\"M19 3H5c-1.1 0-2 .9-2 2v14c0 1.1.9 2 2 2h14c1.1 0 2-.9 2-2V5c0-1.1-.9-2-2-2zM9 17H7v-7h2v7zm4 0h-2V7h2v10zm4 0h-2v-4h2v4z\"/>\n",
              "    </g>\n",
              "</svg>\n",
              "  </button>\n",
              "\n",
              "<style>\n",
              "  .colab-df-quickchart {\n",
              "      --bg-color: #E8F0FE;\n",
              "      --fill-color: #1967D2;\n",
              "      --hover-bg-color: #E2EBFA;\n",
              "      --hover-fill-color: #174EA6;\n",
              "      --disabled-fill-color: #AAA;\n",
              "      --disabled-bg-color: #DDD;\n",
              "  }\n",
              "\n",
              "  [theme=dark] .colab-df-quickchart {\n",
              "      --bg-color: #3B4455;\n",
              "      --fill-color: #D2E3FC;\n",
              "      --hover-bg-color: #434B5C;\n",
              "      --hover-fill-color: #FFFFFF;\n",
              "      --disabled-bg-color: #3B4455;\n",
              "      --disabled-fill-color: #666;\n",
              "  }\n",
              "\n",
              "  .colab-df-quickchart {\n",
              "    background-color: var(--bg-color);\n",
              "    border: none;\n",
              "    border-radius: 50%;\n",
              "    cursor: pointer;\n",
              "    display: none;\n",
              "    fill: var(--fill-color);\n",
              "    height: 32px;\n",
              "    padding: 0;\n",
              "    width: 32px;\n",
              "  }\n",
              "\n",
              "  .colab-df-quickchart:hover {\n",
              "    background-color: var(--hover-bg-color);\n",
              "    box-shadow: 0 1px 2px rgba(60, 64, 67, 0.3), 0 1px 3px 1px rgba(60, 64, 67, 0.15);\n",
              "    fill: var(--button-hover-fill-color);\n",
              "  }\n",
              "\n",
              "  .colab-df-quickchart-complete:disabled,\n",
              "  .colab-df-quickchart-complete:disabled:hover {\n",
              "    background-color: var(--disabled-bg-color);\n",
              "    fill: var(--disabled-fill-color);\n",
              "    box-shadow: none;\n",
              "  }\n",
              "\n",
              "  .colab-df-spinner {\n",
              "    border: 2px solid var(--fill-color);\n",
              "    border-color: transparent;\n",
              "    border-bottom-color: var(--fill-color);\n",
              "    animation:\n",
              "      spin 1s steps(1) infinite;\n",
              "  }\n",
              "\n",
              "  @keyframes spin {\n",
              "    0% {\n",
              "      border-color: transparent;\n",
              "      border-bottom-color: var(--fill-color);\n",
              "      border-left-color: var(--fill-color);\n",
              "    }\n",
              "    20% {\n",
              "      border-color: transparent;\n",
              "      border-left-color: var(--fill-color);\n",
              "      border-top-color: var(--fill-color);\n",
              "    }\n",
              "    30% {\n",
              "      border-color: transparent;\n",
              "      border-left-color: var(--fill-color);\n",
              "      border-top-color: var(--fill-color);\n",
              "      border-right-color: var(--fill-color);\n",
              "    }\n",
              "    40% {\n",
              "      border-color: transparent;\n",
              "      border-right-color: var(--fill-color);\n",
              "      border-top-color: var(--fill-color);\n",
              "    }\n",
              "    60% {\n",
              "      border-color: transparent;\n",
              "      border-right-color: var(--fill-color);\n",
              "    }\n",
              "    80% {\n",
              "      border-color: transparent;\n",
              "      border-right-color: var(--fill-color);\n",
              "      border-bottom-color: var(--fill-color);\n",
              "    }\n",
              "    90% {\n",
              "      border-color: transparent;\n",
              "      border-bottom-color: var(--fill-color);\n",
              "    }\n",
              "  }\n",
              "</style>\n",
              "\n",
              "  <script>\n",
              "    async function quickchart(key) {\n",
              "      const quickchartButtonEl =\n",
              "        document.querySelector('#' + key + ' button');\n",
              "      quickchartButtonEl.disabled = true;  // To prevent multiple clicks.\n",
              "      quickchartButtonEl.classList.add('colab-df-spinner');\n",
              "      try {\n",
              "        const charts = await google.colab.kernel.invokeFunction(\n",
              "            'suggestCharts', [key], {});\n",
              "      } catch (error) {\n",
              "        console.error('Error during call to suggestCharts:', error);\n",
              "      }\n",
              "      quickchartButtonEl.classList.remove('colab-df-spinner');\n",
              "      quickchartButtonEl.classList.add('colab-df-quickchart-complete');\n",
              "    }\n",
              "    (() => {\n",
              "      let quickchartButtonEl =\n",
              "        document.querySelector('#df-50059f86-583a-43d7-8100-85913b9f1d59 button');\n",
              "      quickchartButtonEl.style.display =\n",
              "        google.colab.kernel.accessAllowed ? 'block' : 'none';\n",
              "    })();\n",
              "  </script>\n",
              "</div>\n",
              "    </div>\n",
              "  </div>\n"
            ]
          },
          "metadata": {},
          "execution_count": 62
        }
      ]
    },
    {
      "cell_type": "code",
      "source": [
        "recos_df.to_csv('/content/drive/MyDrive/Colab Notebooks/ИТМО/Recsys/recbole_recos.csv')"
      ],
      "metadata": {
        "id": "m_gwVZorZ-mp"
      },
      "id": "m_gwVZorZ-mp",
      "execution_count": null,
      "outputs": []
    },
    {
      "cell_type": "markdown",
      "source": [
        "# Что сделано"
      ],
      "metadata": {
        "id": "JvKsQftgZrZu"
      },
      "id": "JvKsQftgZrZu"
    },
    {
      "cell_type": "markdown",
      "source": [
        "1. Проведены эксперименты из фреймворка Recbole\n",
        "\n",
        "2. Выбрана лучшая модель и интегрирована в сервис"
      ],
      "metadata": {
        "id": "K92lX4QXZtD3"
      },
      "id": "K92lX4QXZtD3"
    }
  ],
  "metadata": {
    "kernelspec": {
      "display_name": "Python 3",
      "name": "python3"
    },
    "language_info": {
      "codemirror_mode": {
        "name": "ipython",
        "version": 3
      },
      "file_extension": ".py",
      "mimetype": "text/x-python",
      "name": "python",
      "nbconvert_exporter": "python",
      "pygments_lexer": "ipython3",
      "version": "3.9.12"
    },
    "papermill": {
      "default_parameters": {},
      "duration": 27491.154881,
      "end_time": "2022-11-28T00:11:27.624787",
      "environment_variables": {},
      "exception": null,
      "input_path": "__notebook__.ipynb",
      "output_path": "__notebook__.ipynb",
      "parameters": {},
      "start_time": "2022-11-27T16:33:16.469906",
      "version": "2.3.4"
    },
    "colab": {
      "provenance": [],
      "gpuType": "T4"
    },
    "accelerator": "GPU"
  },
  "nbformat": 4,
  "nbformat_minor": 5
}