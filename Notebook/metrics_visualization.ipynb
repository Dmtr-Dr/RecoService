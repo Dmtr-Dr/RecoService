{
 "cells": [
  {
   "cell_type": "markdown",
   "metadata": {},
   "source": [
    "# Установка библиотек"
   ]
  },
  {
   "cell_type": "code",
   "execution_count": null,
   "metadata": {},
   "outputs": [],
   "source": [
    "import pandas as pd\n",
    "import numpy as np\n",
    "\n",
    "import requests\n",
    "from tqdm.auto import tqdm\n",
    "import zipfile as zf\n",
    "\n",
    "from rectools import Columns\n",
    "from rectools.models import RandomModel,PopularModel\n",
    "from rectools.model_selection import TimeRangeSplitter\n",
    "from rectools.metrics import Precision, Recall, MAP, MRR, Serendipity,MeanInvUserFreq,calc_metrics\n",
    "from rectools.dataset import Interactions, Dataset"
   ]
  },
  {
   "cell_type": "markdown",
   "metadata": {},
   "source": [
    "# Чтение данных"
   ]
  },
  {
   "cell_type": "code",
   "execution_count": null,
   "metadata": {},
   "outputs": [],
   "source": [
    "url = 'https://github.com/irsafilo/KION_DATASET/raw/f69775be31fa5779907cf0a92ddedb70037fb5ae/data_original.zip'"
   ]
  },
  {
   "cell_type": "code",
   "execution_count": null,
   "metadata": {},
   "outputs": [],
   "source": [
    "req = requests.get(url, stream=True)\n",
    "\n",
    "with open('kion.zip', 'wb') as fd:\n",
    "    total_size_in_bytes = int(req.headers.get('Content-Length', 0))\n",
    "    progress_bar = tqdm(desc='kion dataset download', total=total_size_in_bytes, unit='iB', unit_scale=True)\n",
    "    for chunk in req.iter_content(chunk_size=2 ** 20):\n",
    "        progress_bar.update(len(chunk))\n",
    "        fd.write(chunk)"
   ]
  },
  {
   "cell_type": "code",
   "execution_count": null,
   "metadata": {},
   "outputs": [],
   "source": [
    "files = zf.ZipFile('kion.zip','r')\n",
    "files.extractall()\n",
    "files.close()"
   ]
  },
  {
   "cell_type": "code",
   "execution_count": null,
   "metadata": {},
   "outputs": [],
   "source": [
    "interactions_df = pd.read_csv('data_original/interactions.csv', parse_dates=[\"last_watch_dt\"])\n",
    "\n",
    "interactions_df.rename(\n",
    "    columns={\n",
    "        'last_watch_dt': Columns.Datetime,\n",
    "        'total_dur': Columns.Weight\n",
    "    }, \n",
    "    inplace=True) "
   ]
  },
  {
   "cell_type": "code",
   "execution_count": null,
   "metadata": {},
   "outputs": [],
   "source": [
    "users = pd.read_csv('data_original/users.csv')\n",
    "items = pd.read_csv('data_original/items.csv')"
   ]
  },
  {
   "cell_type": "code",
   "execution_count": null,
   "metadata": {},
   "outputs": [],
   "source": [
    "interactions = Interactions(interactions_df)\n",
    "interactions.df.head()"
   ]
  },
  {
   "cell_type": "markdown",
   "metadata": {},
   "source": [
    "# Расчёт метрик\n"
   ]
  },
  {
   "cell_type": "code",
   "execution_count": null,
   "metadata": {},
   "outputs": [],
   "source": [
    "models = {\n",
    "    \"random\": RandomModel(random_state=32),\n",
    "    \"popular\": PopularModel()\n",
    "}\n",
    "\n",
    "# We will calculate several classic (precision@k and recall@k) and \"beyond accuracy\" metrics\n",
    "metrics = {\n",
    "    \"MAP@1\": MAP(k=1),\n",
    "    \"MAP@5\": MAP(k=5),\n",
    "    \"MAP@10\": MAP(k=10),\n",
    "    \"MRR@1\": MRR(k=1),\n",
    "    \"MRR@5\": MRR(k=5),\n",
    "    \"MRR@10\": MRR(k=10),\n",
    "    \"prec@1\": Precision(k=1),\n",
    "    \"prec@5\": Precision(k=5),\n",
    "    \"prec@10\": Precision(k=10),\n",
    "    \"recall@1\": Recall(k=1),\n",
    "    \"recall@5\": Recall(k=5),\n",
    "    \"recall@10\": Recall(k=10),\n",
    "    \"novelty@1\": MeanInvUserFreq(k=1),\n",
    "    \"novelty@5\": MeanInvUserFreq(k=5),\n",
    "    \"novelty@10\": MeanInvUserFreq(k=10),\n",
    "    \"serendipity@1\": Serendipity(k=1),\n",
    "    \"serendipity@5\": Serendipity(k=5),\n",
    "    \"serendipity@10\": Serendipity(k=10),\n",
    "}\n",
    "\n",
    "K_RECOS = 10"
   ]
  },
  {
   "cell_type": "code",
   "execution_count": null,
   "metadata": {},
   "outputs": [],
   "source": [
    "n_splits = 3\n",
    "\n",
    "cv = TimeRangeSplitter(\n",
    "    test_size=\"7D\",\n",
    "    n_splits=n_splits,\n",
    "    filter_already_seen=True,\n",
    "    filter_cold_items=True,\n",
    "    filter_cold_users=True,\n",
    ")"
   ]
  },
  {
   "cell_type": "code",
   "execution_count": null,
   "metadata": {},
   "outputs": [],
   "source": [
    "cv.get_test_fold_borders(interactions)"
   ]
  },
  {
   "cell_type": "code",
   "execution_count": null,
   "metadata": {},
   "outputs": [],
   "source": [
    "def cross_validation_function(interactions, models, metrics, K_RECOS, splitter,n_splits):\n",
    "\n",
    "  results = []\n",
    "\n",
    "  fold_iterator = splitter.split(interactions, collect_fold_stats=True)\n",
    "\n",
    "  for train_ids, test_ids, fold_info in tqdm((fold_iterator), total=n_splits):\n",
    "      print(f\"\\n==================== Fold {fold_info['i_split']}\")\n",
    "      print(fold_info)\n",
    "\n",
    "      df_train = interactions.df.iloc[train_ids]\n",
    "      dataset = Dataset.construct(df_train)\n",
    "\n",
    "      df_test = interactions.df.iloc[test_ids][Columns.UserItem]\n",
    "      test_users = np.unique(df_test[Columns.User])\n",
    "\n",
    "      catalog = df_train[Columns.Item].unique()\n",
    "\n",
    "      for model_name, model in models.items():\n",
    "          model.fit(dataset)\n",
    "          recos = model.recommend(\n",
    "              users=test_users,\n",
    "              dataset=dataset,\n",
    "              k=K_RECOS,\n",
    "              filter_viewed=True,\n",
    "          )\n",
    "          metric_values = calc_metrics(\n",
    "              metrics,\n",
    "              reco=recos,\n",
    "              interactions=df_test,\n",
    "              prev_interactions=df_train,\n",
    "              catalog=catalog,\n",
    "          )\n",
    "          res = {\"fold\": fold_info[\"i_split\"], \"model\": model_name}\n",
    "          res.update(metric_values)\n",
    "          results.append(res)\n",
    "  return results"
   ]
  },
  {
   "cell_type": "code",
   "execution_count": null,
   "metadata": {},
   "outputs": [],
   "source": [
    "%%time\n",
    "\n",
    "cross_val_results = cross_validation_function(interactions, models, metrics, K_RECOS, cv, n_splits)"
   ]
  },
  {
   "cell_type": "code",
   "execution_count": null,
   "metadata": {},
   "outputs": [],
   "source": [
    "pivot_results = pd.DataFrame(cross_val_results).drop(columns=\"fold\").groupby([\"model\"], sort=False).agg([\"mean\"])\n",
    "mean_metric_subset = [(metric, agg) for metric, agg in pivot_results.columns if agg == 'mean']\n",
    "(\n",
    "    pivot_results.style\n",
    "    .highlight_min(subset=mean_metric_subset, color='lightcoral', axis=0)\n",
    "    .highlight_max(subset=mean_metric_subset, color='lightgreen', axis=0)\n",
    ")"
   ]
  },
  {
   "cell_type": "markdown",
   "metadata": {},
   "source": [
    "# Визуальный анализ"
   ]
  },
  {
   "cell_type": "code",
   "execution_count": null,
   "metadata": {},
   "outputs": [],
   "source": [
    "def visualization_function(model, inter_data, user_id, item_data,item_columns, K_RECOS):\n",
    "  dataset = Dataset.construct(inter_data)\n",
    "  recos = model.recommend(\n",
    "      users=user_id,\n",
    "      dataset=dataset,\n",
    "      k=K_RECOS,\n",
    "      filter_viewed=True\n",
    "      )\n",
    "  for user in user_id:\n",
    "    print('История просмотров:')\n",
    "    display(inter_data[inter_data.user_id==user].merge(item_data[item_columns].merge(inter_data.groupby(['item_id']).agg(['count']).user_id.reset_index(),on='item_id'),on='item_id'))\n",
    "    print('Рекомендации:')\n",
    "    display(recos[recos.user_id==user].merge(item_data[item_columns].merge(inter_data.groupby(['item_id']).agg(['count']).user_id.reset_index(),on='item_id'),on='item_id')) "
   ]
  },
  {
   "cell_type": "code",
   "execution_count": null,
   "metadata": {},
   "outputs": [],
   "source": [
    "model = RandomModel(random_state=32)\n",
    "dataset = Dataset.construct(interactions_df)\n",
    "model.fit(dataset)\n",
    "test_users = [666262, 672861, 955527]"
   ]
  },
  {
   "cell_type": "code",
   "execution_count": null,
   "metadata": {},
   "outputs": [],
   "source": [
    "visualization_function(model,interactions_df,test_users,items,['item_id','title','genres'],10)"
   ]
  }
 ],
 "metadata": {
  "language_info": {
   "name": "python"
  }
 },
 "nbformat": 4,
 "nbformat_minor": 2
}
